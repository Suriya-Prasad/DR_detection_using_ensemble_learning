{
 "cells": [
  {
   "cell_type": "code",
   "execution_count": 1,
   "metadata": {},
   "outputs": [],
   "source": [
    "import os\n",
    "from PIL import Image\n",
    "from tqdm import tqdm"
   ]
  },
  {
   "cell_type": "code",
   "execution_count": 6,
   "metadata": {},
   "outputs": [],
   "source": [
    "# Define the paths for the source and destination folders\n",
    "source_dir = 'aptos_augmented_images_original/test/'\n",
    "dest_dir = 'aptos_augmented_images_resized/test/'\n",
    "\n",
    "# defining size\n",
    "size = (128,128)"
   ]
  },
  {
   "cell_type": "code",
   "execution_count": 8,
   "metadata": {},
   "outputs": [],
   "source": [
    "def resize_files(source,dest,size):\n",
    "    \n",
    "    for i in range(5):\n",
    "\n",
    "        # Each class has its own sub-folders\n",
    "        source_dir = source + str(i)\n",
    "        dest_dir = dest + str(i)\n",
    "\n",
    "        # Get the number of files in the source directory for tqdm\n",
    "        num_files = len(os.listdir(source_dir))\n",
    "\n",
    "        # Use tqdm to iterate over the files in the source directory and resize and save them to the destination directory\n",
    "        for file_name in tqdm(os.listdir(source_dir), desc='Resizing images of class '+str(i), total=num_files):\n",
    "            # Open the image and resize it\n",
    "            img = Image.open(os.path.join(source_dir, file_name))\n",
    "            img_resized = img.resize(size)\n",
    "            \n",
    "            # Save the resized image to the destination directory\n",
    "            dest_path = os.path.join(dest_dir, file_name)\n",
    "            img_resized.save(dest_path)\n"
   ]
  },
  {
   "cell_type": "code",
   "execution_count": 9,
   "metadata": {},
   "outputs": [
    {
     "name": "stderr",
     "output_type": "stream",
     "text": [
      "Resizing images of class 0: 100%|██████████| 400/400 [00:04<00:00, 90.65it/s] \n",
      "Resizing images of class 1: 100%|██████████| 400/400 [00:02<00:00, 179.43it/s]\n",
      "Resizing images of class 2: 100%|██████████| 400/400 [00:02<00:00, 174.02it/s]\n",
      "Resizing images of class 3: 100%|██████████| 400/400 [00:02<00:00, 177.67it/s]\n",
      "Resizing images of class 4: 100%|██████████| 400/400 [00:02<00:00, 178.99it/s]\n"
     ]
    }
   ],
   "source": [
    "# calling the resizing function\n",
    "resize_files(source_dir,dest_dir,size)"
   ]
  }
 ],
 "metadata": {
  "kernelspec": {
   "display_name": "Python 3",
   "language": "python",
   "name": "python3"
  },
  "language_info": {
   "codemirror_mode": {
    "name": "ipython",
    "version": 3
   },
   "file_extension": ".py",
   "mimetype": "text/x-python",
   "name": "python",
   "nbconvert_exporter": "python",
   "pygments_lexer": "ipython3",
   "version": "3.9.7"
  },
  "orig_nbformat": 4
 },
 "nbformat": 4,
 "nbformat_minor": 2
}
